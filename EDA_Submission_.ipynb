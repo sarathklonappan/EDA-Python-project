{
  "nbformat": 4,
  "nbformat_minor": 0,
  "metadata": {
    "colab": {
      "private_outputs": true,
      "provenance": [],
      "collapsed_sections": [
        "vncDsAP0Gaoa",
        "FJNUwmbgGyua",
        "w6K7xa23Elo4",
        "yQaldy8SH6Dl",
        "PH-0ReGfmX4f",
        "mDgbUHAGgjLW",
        "GF8Ens_Soomf",
        "0wOQAZs5pc--",
        "K5QZ13OEpz2H",
        "lQ7QKXXCp7Bj",
        "448CDAPjqfQr",
        "KSlN3yHqYklG",
        "t6dVpIINYklI",
        "ijmpgYnKYklI",
        "-JiQyfWJYklI",
        "EM7whBJCYoAo",
        "fge-S5ZAYoAp",
        "85gYPyotYoAp",
        "RoGjAbkUYoAp",
        "4Of9eVA-YrdM",
        "iky9q4vBYrdO",
        "F6T5p64dYrdO",
        "y-Ehk30pYrdP",
        "bamQiAODYuh1",
        "QHF8YVU7Yuh3",
        "GwzvFGzlYuh3",
        "qYpmQ266Yuh3",
        "OH-pJp9IphqM",
        "bbFf2-_FphqN",
        "_ouA3fa0phqN",
        "Seke61FWphqN",
        "PIIx-8_IphqN",
        "t27r6nlMphqO",
        "r2jJGEOYphqO",
        "b0JNsNcRphqO",
        "BZR9WyysphqO",
        "jj7wYXLtphqO",
        "eZrbJ2SmphqO",
        "rFu4xreNphqO",
        "YJ55k-q6phqO",
        "gCFgpxoyphqP",
        "OVtJsKN_phqQ",
        "lssrdh5qphqQ",
        "U2RJ9gkRphqQ",
        "1M8mcRywphqQ",
        "tgIPom80phqQ",
        "JMzcOPDDphqR",
        "x-EpHcCOp1ci",
        "X_VqEhTip1ck",
        "8zGJKyg5p1ck",
        "PVzmfK_Ep1ck",
        "n3dbpmDWp1ck",
        "ylSl6qgtp1ck",
        "ZWILFDl5p1ck",
        "M7G43BXep1ck",
        "Ag9LCva-p1cl",
        "E6MkPsBcp1cl",
        "2cELzS2fp1cl",
        "3MPXvC8up1cl",
        "NC_X3p0fY2L0",
        "UV0SzAkaZNRQ",
        "YPEH6qLeZNRQ",
        "q29F0dvdveiT",
        "EXh0U9oCveiU",
        "22aHeOlLveiV",
        "JcMwzZxoAimU",
        "8G2x9gOozGDZ",
        "gCX9965dhzqZ",
        "gIfDvo9L0UH2"
      ],
      "include_colab_link": true
    },
    "kernelspec": {
      "name": "python3",
      "display_name": "Python 3"
    },
    "language_info": {
      "name": "python"
    }
  },
  "cells": [
    {
      "cell_type": "markdown",
      "metadata": {
        "id": "view-in-github",
        "colab_type": "text"
      },
      "source": [
        "<a href=\"https://colab.research.google.com/github/sarathklonappan/EDA-Python-project/blob/main/EDA_Submission_.ipynb\" target=\"_parent\"><img src=\"https://colab.research.google.com/assets/colab-badge.svg\" alt=\"Open In Colab\"/></a>"
      ]
    },
    {
      "cell_type": "markdown",
      "source": [
        "# **Project Name**    -   Play Store Review Analysis \n",
        "\n"
      ],
      "metadata": {
        "id": "vncDsAP0Gaoa"
      }
    },
    {
      "cell_type": "markdown",
      "source": [
        "##### **Project Type**    - EDA\n",
        "##### **Contribution**    - Team\n",
        "##### **Team Member 1 -**Sarath Lonappan\n",
        "##### **Team Member 2 -**Akash Raj\n"
      ],
      "metadata": {
        "id": "beRrZCGUAJYm"
      }
    },
    {
      "cell_type": "markdown",
      "source": [
        "# **Project Summary -**"
      ],
      "metadata": {
        "id": "FJNUwmbgGyua"
      }
    },
    {
      "cell_type": "markdown",
      "source": [
        "Write the summary here within 500-600 words.\n",
        "\n",
        "Play Store is the plateform where most number of apps are getting downloaded. Apps are suggested to people according to their mobile activities.So they can easily find which app they are searching for.\n",
        "\n",
        "Free apps will be preferred more by everyone. Size doesnot matter for the needful ones.The aim is to make more users to download the app rather than making them using it more.Making them review the apps more will help the developers to enahance the features and also help new users to go through reviews and download them.\n",
        "\n",
        "With almost 3 million apps in play store, an annual download above 100 billion is taking place.So a proper view of suggestions and rating will help to increase the number of downloads."
      ],
      "metadata": {
        "id": "F6v_1wHtG2nS"
      }
    },
    {
      "cell_type": "markdown",
      "source": [
        "# **GitHub Link -**"
      ],
      "metadata": {
        "id": "w6K7xa23Elo4"
      }
    },
    {
      "cell_type": "markdown",
      "source": [
        "https://github.com/sarathklonappan/EDA-Python-project.git"
      ],
      "metadata": {
        "id": "h1o69JH3Eqqn"
      }
    },
    {
      "cell_type": "markdown",
      "source": [
        "# **Problem Statement**\n"
      ],
      "metadata": {
        "id": "yQaldy8SH6Dl"
      }
    },
    {
      "cell_type": "markdown",
      "source": [
        "**Write Problem Statement Here.**\n",
        "\n",
        "Most installed app\n",
        "\n",
        "Maximum Rating for apps in each category\n",
        "\n",
        "Sentiments for each app"
      ],
      "metadata": {
        "id": "DpeJGUA3kjGy"
      }
    },
    {
      "cell_type": "markdown",
      "source": [
        "#### **Define Your Business Objective?**\n",
        "\n",
        "A study on different types of apps and comparison between their important factors"
      ],
      "metadata": {
        "id": "PH-0ReGfmX4f"
      }
    },
    {
      "cell_type": "markdown",
      "source": [
        "# **General Guidelines** : -  "
      ],
      "metadata": {
        "id": "mDgbUHAGgjLW"
      }
    },
    {
      "cell_type": "markdown",
      "source": [
        "1.   Well-structured, formatted, and commented code is required. \n",
        "2.   Exception Handling, Production Grade Code & Deployment Ready Code will be a plus. Those students will be awarded some additional credits. \n",
        "     \n",
        "     The additional credits will have advantages over other students during Star Student selection.\n",
        "       \n",
        "             [ Note: - Deployment Ready Code is defined as, the whole .ipynb notebook should be executable in one go\n",
        "                       without a single error logged. ]\n",
        "\n",
        "3.   Each and every logic should have proper comments.\n",
        "4. You may add as many number of charts you want. Make Sure for each and every chart the following format should be answered.\n",
        "        \n",
        "\n",
        "```\n",
        "# Chart visualization code\n",
        "```\n",
        "            \n",
        "\n",
        "*   Why did you pick the specific chart?\n",
        "*   What is/are the insight(s) found from the chart?\n",
        "* Will the gained insights help creating a positive business impact? \n",
        "Are there any insights that lead to negative growth? Justify with specific reason.\n",
        "\n",
        "5. You have to create at least 20 logical & meaningful charts having important insights.\n",
        "\n",
        "\n",
        "[ Hints : - Do the Vizualization in  a structured way while following \"UBM\" Rule. \n",
        "\n",
        "U - Univariate Analysis,\n",
        "\n",
        "B - Bivariate Analysis (Numerical - Categorical, Numerical - Numerical, Categorical - Categorical)\n",
        "\n",
        "M - Multivariate Analysis\n",
        " ]\n",
        "\n",
        "\n",
        "\n"
      ],
      "metadata": {
        "id": "ZrxVaUj-hHfC"
      }
    },
    {
      "cell_type": "markdown",
      "source": [
        "# ***Let's Begin !***"
      ],
      "metadata": {
        "id": "O_i_v8NEhb9l"
      }
    },
    {
      "cell_type": "markdown",
      "source": [
        "## ***1. Know Your Data***"
      ],
      "metadata": {
        "id": "HhfV-JJviCcP"
      }
    },
    {
      "cell_type": "markdown",
      "source": [
        "### Import Libraries"
      ],
      "metadata": {
        "id": "Y3lxredqlCYt"
      }
    },
    {
      "cell_type": "code",
      "source": [
        "# Import Libraries\n",
        "import pandas as pd\n",
        "import numpy as np\n",
        "import matplotlib.pyplot as plt\n",
        "%matplotlib inline\n",
        "import seaborn as sns\n"
      ],
      "metadata": {
        "id": "M8Vqi-pPk-HR"
      },
      "execution_count": null,
      "outputs": []
    },
    {
      "cell_type": "code",
      "source": [
        "from google.colab import drive\n",
        "drive.mount('/content/drive')"
      ],
      "metadata": {
        "id": "soMwbLEmJ-HO"
      },
      "execution_count": null,
      "outputs": []
    },
    {
      "cell_type": "markdown",
      "source": [
        "### Dataset Loading"
      ],
      "metadata": {
        "id": "3RnN4peoiCZX"
      }
    },
    {
      "cell_type": "code",
      "source": [
        "# Load Dataset\n",
        "file_path1='/content/drive/MyDrive/M1/C4/Play Store Data.csv'\n",
        "df=pd.read_csv(file_path1)\n",
        "file_path2='/content/drive/MyDrive/M1/C4/User Reviews.csv'\n",
        "df2=pd.read_csv(file_path2)"
      ],
      "metadata": {
        "id": "4CkvbW_SlZ_R"
      },
      "execution_count": null,
      "outputs": []
    },
    {
      "cell_type": "markdown",
      "source": [
        "### Dataset First View"
      ],
      "metadata": {
        "id": "x71ZqKXriCWQ"
      }
    },
    {
      "cell_type": "code",
      "source": [
        "# Dataset First Look\n",
        "df.head()"
      ],
      "metadata": {
        "id": "LWNFOSvLl09H"
      },
      "execution_count": null,
      "outputs": []
    },
    {
      "cell_type": "code",
      "source": [
        "df2.head()"
      ],
      "metadata": {
        "id": "1lhTJfbjLdWh"
      },
      "execution_count": null,
      "outputs": []
    },
    {
      "cell_type": "markdown",
      "source": [
        "### Dataset Rows & Columns count"
      ],
      "metadata": {
        "id": "7hBIi_osiCS2"
      }
    },
    {
      "cell_type": "code",
      "source": [
        "# Dataset Rows & Columns count\n",
        "df.shape"
      ],
      "metadata": {
        "id": "Kllu7SJgmLij"
      },
      "execution_count": null,
      "outputs": []
    },
    {
      "cell_type": "code",
      "source": [
        "df2.shape"
      ],
      "metadata": {
        "id": "44juhn4CLvCk"
      },
      "execution_count": null,
      "outputs": []
    },
    {
      "cell_type": "markdown",
      "source": [
        "### Dataset Information"
      ],
      "metadata": {
        "id": "JlHwYmJAmNHm"
      }
    },
    {
      "cell_type": "code",
      "source": [
        "# Dataset Info\n",
        "df.info()"
      ],
      "metadata": {
        "id": "e9hRXRi6meOf"
      },
      "execution_count": null,
      "outputs": []
    },
    {
      "cell_type": "code",
      "source": [
        "df2.info()"
      ],
      "metadata": {
        "id": "OQbPUwgwL2U6"
      },
      "execution_count": null,
      "outputs": []
    },
    {
      "cell_type": "markdown",
      "source": [
        "#### Duplicate Values"
      ],
      "metadata": {
        "id": "35m5QtbWiB9F"
      }
    },
    {
      "cell_type": "code",
      "source": [
        "# Dataset Duplicate Value Count\n",
        "df[df.duplicated('App')]"
      ],
      "metadata": {
        "id": "1sLdpKYkmox0"
      },
      "execution_count": null,
      "outputs": []
    },
    {
      "cell_type": "code",
      "source": [
        "df1=df.drop_duplicates(subset='App',keep='first').copy()"
      ],
      "metadata": {
        "id": "CELI_TfsnIwE"
      },
      "execution_count": null,
      "outputs": []
    },
    {
      "cell_type": "markdown",
      "source": [
        "### Check Unique Values for each variable."
      ],
      "metadata": {
        "id": "Fhc_HzrraIp7"
      }
    },
    {
      "cell_type": "code",
      "source": [
        "# Check Unique Values for each variable."
      ],
      "metadata": {
        "id": "FrkkpEmBaIp8"
      },
      "execution_count": null,
      "outputs": []
    },
    {
      "cell_type": "code",
      "source": [
        "# CATEGORY\n",
        "\n",
        "df1['Category'].unique()"
      ],
      "metadata": {
        "id": "MSOt-fDKfaql"
      },
      "execution_count": null,
      "outputs": []
    },
    {
      "cell_type": "code",
      "source": [
        "df1[df1['Category']=='1.9']\n"
      ],
      "metadata": {
        "id": "SGNs4TZzgfQV"
      },
      "execution_count": null,
      "outputs": []
    },
    {
      "cell_type": "code",
      "source": [
        "df1.loc[10472]=df1.loc[10472].shift()\n",
        "df1['App'].loc[10472]=df1['Category'].loc[10472]\n",
        "df1['Category'].loc[10472]=np.nan\n",
        "df1.loc[10472]"
      ],
      "metadata": {
        "id": "QSJ41lNEkxpv"
      },
      "execution_count": null,
      "outputs": []
    },
    {
      "cell_type": "code",
      "source": [
        "# SIZE\n",
        "df1['Size'].unique()"
      ],
      "metadata": {
        "id": "dDYqdt8WIL1O"
      },
      "execution_count": null,
      "outputs": []
    },
    {
      "cell_type": "code",
      "source": [
        "\n",
        "\n",
        "df1['Size']=df1.Size.replace('Varies with device',np.nan)\n",
        "df1['Size']=df1.Size.str.replace('M','000')\n",
        "df1['Size']=df1.Size.str.replace('k','')\n",
        "df1['Size']=df1['Size'].astype(float)\n",
        "df1['Size'].dtype"
      ],
      "metadata": {
        "id": "CXvCLn79ncj1"
      },
      "execution_count": null,
      "outputs": []
    },
    {
      "cell_type": "markdown",
      "source": [
        "#### Missing Values/Null Values"
      ],
      "metadata": {
        "id": "PoPl-ycgm1ru"
      }
    },
    {
      "cell_type": "code",
      "source": [
        "# RATING\n",
        "\n",
        "df1['Rating'].unique()"
      ],
      "metadata": {
        "id": "EyzDW4GroHDC"
      },
      "execution_count": null,
      "outputs": []
    },
    {
      "cell_type": "code",
      "source": [
        "df1['Rating'] = pd.to_numeric(df1['Rating'], errors='coerce')\n",
        "df1['Rating'].dtype"
      ],
      "metadata": {
        "id": "rdSE5X9nCy2P"
      },
      "execution_count": null,
      "outputs": []
    },
    {
      "cell_type": "code",
      "source": [
        "# REVIEWS\n",
        "\n",
        "df1['Reviews'].unique()"
      ],
      "metadata": {
        "id": "MJ1FvWMvDZ0o"
      },
      "execution_count": null,
      "outputs": []
    },
    {
      "cell_type": "code",
      "source": [
        "df1['Reviews'] = df1['Reviews'].astype(float)\n",
        "df1['Reviews'].dtype"
      ],
      "metadata": {
        "id": "P0NbTY7zDffJ"
      },
      "execution_count": null,
      "outputs": []
    },
    {
      "cell_type": "code",
      "source": [
        "# INSTALLS\n",
        "\n",
        "df1['Installs'].unique()"
      ],
      "metadata": {
        "id": "yN7m-PIiF30d"
      },
      "execution_count": null,
      "outputs": []
    },
    {
      "cell_type": "code",
      "source": [
        "df1['Installs'] = df1.Installs.str.replace(\",\",\"\")\n",
        "df1['Installs'] = df1.Installs.str.replace(\"+\",\"\")\n",
        "df1['Installs'] = df1['Installs'].astype(float)\n",
        "df1['Installs'].dtype"
      ],
      "metadata": {
        "id": "bt_ZyZyUGXiP"
      },
      "execution_count": null,
      "outputs": []
    },
    {
      "cell_type": "code",
      "source": [
        "\n",
        "# PRICE\n",
        "\n",
        "df1['Price'].unique()"
      ],
      "metadata": {
        "id": "avf9s9InG_97"
      },
      "execution_count": null,
      "outputs": []
    },
    {
      "cell_type": "code",
      "source": [
        "\n",
        "\n",
        "\n",
        "df1['Price'] = df1['Price'].str.replace(\"$\",\"\").astype(float)\n",
        "df1['Price'].dtype"
      ],
      "metadata": {
        "id": "gbh7CkxJHT1M"
      },
      "execution_count": null,
      "outputs": []
    },
    {
      "cell_type": "code",
      "source": [
        "#LAST UPDATED\n",
        "\n",
        "df1['Last Updated'].unique()"
      ],
      "metadata": {
        "id": "Bg7BUetdHjm4"
      },
      "execution_count": null,
      "outputs": []
    },
    {
      "cell_type": "code",
      "source": [
        "df1['Last Updated'] = pd.to_datetime(df1['Last Updated'])\n",
        "df1['Last Updated']"
      ],
      "metadata": {
        "id": "WBagEPlEIkXC"
      },
      "execution_count": null,
      "outputs": []
    },
    {
      "cell_type": "code",
      "source": [
        "# Visualizing the missing values\n",
        "import missingno as msno\n",
        "msno.bar(df)"
      ],
      "metadata": {
        "id": "jdM19wS0O_-f"
      },
      "execution_count": null,
      "outputs": []
    },
    {
      "cell_type": "code",
      "source": [
        "msno.bar(df2)"
      ],
      "metadata": {
        "id": "Dxp452IdR8ye"
      },
      "execution_count": null,
      "outputs": []
    },
    {
      "cell_type": "code",
      "source": [
        "\n",
        "df1.corr()"
      ],
      "metadata": {
        "id": "3q5wnI3om9sJ"
      },
      "execution_count": null,
      "outputs": []
    },
    {
      "cell_type": "markdown",
      "source": [
        "### What did you know about your dataset?"
      ],
      "metadata": {
        "id": "H0kj-8xxnORC"
      }
    },
    {
      "cell_type": "markdown",
      "source": [
        "There are 2 datatsets. First one gives the information about Category,Price,Rating,Android version to be used,etc.This dataset mostly gives the numerical overview of an app like installs,price,etc.\n",
        "The other dataset gives the feedback of the users like reviews and sentiments they have towards the app.This dataset is almost 6 times bigger than other one as review of each user is shown.\n",
        "\n",
        "Analysing the apps,category and genres based on each factors will be done. "
      ],
      "metadata": {
        "id": "gfoNAAC-nUe_"
      }
    },
    {
      "cell_type": "markdown",
      "source": [
        "## ***2. Understanding Your Variables***"
      ],
      "metadata": {
        "id": "nA9Y7ga8ng1Z"
      }
    },
    {
      "cell_type": "code",
      "source": [
        "# Dataset Columns\n",
        "df1.columns"
      ],
      "metadata": {
        "id": "j7xfkqrt5Ag5"
      },
      "execution_count": null,
      "outputs": []
    },
    {
      "cell_type": "code",
      "source": [
        "# Dataset Describe\n",
        "df1.describe()"
      ],
      "metadata": {
        "id": "DnOaZdaE5Q5t"
      },
      "execution_count": null,
      "outputs": []
    },
    {
      "cell_type": "markdown",
      "source": [
        "### Variables Description "
      ],
      "metadata": {
        "id": "PBTbrJXOngz2"
      }
    },
    {
      "cell_type": "markdown",
      "source": [
        "Category- Category which the app belong to\n",
        "\n",
        "Rating-Rating the app got\n",
        "\n",
        "Reviews- Reviews for each app\n",
        "\n",
        "Size-Size of each app\n",
        "\n",
        "Installs- No of downloads\n",
        "\n",
        "Type- Type of payment\n",
        "\n",
        "Price-Price of each app\n",
        "\n",
        "Content Rating- age group for which app can be used\n",
        "\n",
        "Genres-Genres which app belong to\n",
        "\n",
        "Last updated-Last Updation date\n",
        "\n",
        "Current and Android Ver- Versions of android the app can be used\n",
        "\n",
        "Translated Review- Review of each user\n",
        "\n",
        "Sentiment and sentiment Polarity-Sentiment of user and its numerical value\n",
        "\n",
        "\n"
      ],
      "metadata": {
        "id": "aJV4KIxSnxay"
      }
    },
    {
      "cell_type": "markdown",
      "source": [
        "## 3. ***Data Wrangling***"
      ],
      "metadata": {
        "id": "dauF4eBmngu3"
      }
    },
    {
      "cell_type": "markdown",
      "source": [
        "### Data Wrangling Code"
      ],
      "metadata": {
        "id": "bKJF3rekwFvQ"
      }
    },
    {
      "cell_type": "code",
      "source": [
        "# Write your code to make your dataset analysis ready.\n",
        "# Find the apps with most no of installs\n",
        "df1[df1['Installs']==df1['Installs'].max()]"
      ],
      "metadata": {
        "id": "wk-9a2fpoLcV"
      },
      "execution_count": null,
      "outputs": []
    },
    {
      "cell_type": "code",
      "source": [
        "#Find maximum installs,maximum rating and no of apps in each category \n",
        "df1.groupby(['Category']).agg({'Installs':'max','Rating':'max','App':'count'})"
      ],
      "metadata": {
        "id": "Rw9WOzuuqcYm"
      },
      "execution_count": null,
      "outputs": []
    },
    {
      "cell_type": "code",
      "source": [
        "#Find the apps that has lowest size with minimum no of reviews\n",
        "a=df1[df1['Reviews']==df1['Reviews'].min()]\n",
        "a[a['Size']==a['Size'].min()]\n"
      ],
      "metadata": {
        "id": "0Dvt4M6FrG4K"
      },
      "execution_count": null,
      "outputs": []
    },
    {
      "cell_type": "code",
      "source": [
        "# FInd the no of apps related to genres Art\n",
        "b=df1['Genres'].unique().astype('str')"
      ],
      "metadata": {
        "id": "GYwQeWs2X1wX"
      },
      "execution_count": null,
      "outputs": []
    },
    {
      "cell_type": "code",
      "source": [
        "def unique_values(lists):\n",
        "  '''Returns the unique elements in a given string by removing &,;'''\n",
        "\n",
        "  if type(lists)==float:\n",
        "    lists=str(lists)\n",
        "    a=lists.split('&')\n",
        "    unique_values=[]\n",
        "    for b in range(len(a)):\n",
        "      unique_values=unique_values+a[b].split(';')\n",
        "    return(unique_values)\n",
        "  elif type(lists)==str:\n",
        "    a=lists.split('&')\n",
        "    unique_values=[]\n",
        "    for b in range(len(a)):\n",
        "      unique_values=unique_values+a[b].split(';')\n",
        "    return(unique_values) \n",
        "    \n",
        "  "
      ],
      "metadata": {
        "id": "Rt7tpZGDh_hz"
      },
      "execution_count": null,
      "outputs": []
    },
    {
      "cell_type": "code",
      "source": [
        "df1['Unique_genres']=df1.apply(lambda x: unique_values(x['Genres']),axis=1)"
      ],
      "metadata": {
        "id": "G8hp2YxRpGU9"
      },
      "execution_count": null,
      "outputs": []
    },
    {
      "cell_type": "code",
      "source": [
        "\n",
        "def count_art(argu):\n",
        "  '''Returns the count of presence of Art in each element of unique genres column'''\n",
        "  count=0\n",
        "  for a in range(len(argu)):\n",
        "    if 'Art '==argu[a]:\n",
        "      count+=1\n",
        "  return count\n",
        "df1.apply(lambda x: count_art(x['Unique_genres']),axis=1).sum()\n"
      ],
      "metadata": {
        "id": "nCE6ZC0sJUmY"
      },
      "execution_count": null,
      "outputs": []
    },
    {
      "cell_type": "code",
      "source": [
        "#Find no of free and paid apps in each category\n",
        "df1.groupby(['Category','Type'])['Type'].count()"
      ],
      "metadata": {
        "id": "EQt3LqlrO0-h"
      },
      "execution_count": null,
      "outputs": []
    },
    {
      "cell_type": "code",
      "source": [
        "#The price of the paid app that has maximum no of reviews\n",
        "paid_app=df1.drop(df1[df1['Price']==0].index)\n",
        "paid_app[paid_app['Reviews']==paid_app['Reviews'].max()]\n",
        "\n"
      ],
      "metadata": {
        "id": "7W9oCAztHVzc"
      },
      "execution_count": null,
      "outputs": []
    },
    {
      "cell_type": "code",
      "source": [
        "paid_app.loc[2241,'Price']"
      ],
      "metadata": {
        "id": "VyBunbbuRUHr"
      },
      "execution_count": null,
      "outputs": []
    },
    {
      "cell_type": "code",
      "source": [
        "#Most installed paid app\n",
        "paid_app[paid_app['Installs']==paid_app['Installs'].max()]"
      ],
      "metadata": {
        "id": "mQHBRLeRN9cP"
      },
      "execution_count": null,
      "outputs": []
    },
    {
      "cell_type": "code",
      "source": [
        "#Latest updated apps\n",
        "df1['Last Updated'].max()"
      ],
      "metadata": {
        "id": "SW1GV6YYWKZy"
      },
      "execution_count": null,
      "outputs": []
    },
    {
      "cell_type": "code",
      "source": [
        "df1[df1['Last Updated']=='2018-08-08']\n"
      ],
      "metadata": {
        "id": "MuqWYo2KWiEx"
      },
      "execution_count": null,
      "outputs": []
    },
    {
      "cell_type": "code",
      "source": [
        "df2.head(10)"
      ],
      "metadata": {
        "id": "t8cOtQ9blHq8"
      },
      "execution_count": null,
      "outputs": []
    },
    {
      "cell_type": "code",
      "source": [
        "#Find the no of sentiments for each app\n",
        "df2.groupby(['App','Sentiment'])['Sentiment'].count()"
      ],
      "metadata": {
        "id": "tEAHZdaFo1vH"
      },
      "execution_count": null,
      "outputs": []
    },
    {
      "cell_type": "code",
      "source": [
        "#Mean of Sentiment Polarity and sentiment subjectivity for each sentiment\n",
        "df2.groupby('Sentiment').mean()"
      ],
      "metadata": {
        "id": "CeRDSrNHm82C"
      },
      "execution_count": null,
      "outputs": []
    },
    {
      "cell_type": "code",
      "source": [
        "#No of Reviews for each App\n",
        "df2.groupby('App')['Sentiment_Polarity'].count()"
      ],
      "metadata": {
        "id": "e0p2N9ErsCTK"
      },
      "execution_count": null,
      "outputs": []
    },
    {
      "cell_type": "code",
      "source": [
        "#App with Most no of Positive and Negative Reviews\n",
        "e=pd.DataFrame(df2[df2['Sentiment']=='Positive'])\n",
        "f=pd.DataFrame(e.groupby(['App'])['Sentiment'].count())\n",
        "f[f['Sentiment']==f['Sentiment'].max()]"
      ],
      "metadata": {
        "id": "swelxhIttyvV"
      },
      "execution_count": null,
      "outputs": []
    },
    {
      "cell_type": "code",
      "source": [
        "g=pd.DataFrame(df2[df2['Sentiment']=='Negative'])\n",
        "h=pd.DataFrame(g.groupby(['App'])['Sentiment'].count())\n",
        "h[h['Sentiment']==h['Sentiment'].max()]"
      ],
      "metadata": {
        "id": "hg4py6w2_ZVm"
      },
      "execution_count": null,
      "outputs": []
    },
    {
      "cell_type": "markdown",
      "source": [
        "### What all manipulations have you done and insights you found?"
      ],
      "metadata": {
        "id": "MSa1f5Uengrz"
      }
    },
    {
      "cell_type": "markdown",
      "source": [
        "1.We found the maximum installed apps in the dataframe.\n",
        "\n",
        "2.We picked the most installed apps and most rated apps in each category:           \n",
        "\n",
        "3.Apps that has lowest size with minimum no of reviews:\n",
        "\n",
        "EG Groups,EG Way Life and EO Forum has lowest size of 1.1 with 0 reviews\n",
        "\n",
        "4.No of apps related to genres Art\n",
        "\n",
        "There are 65 apps related to Art\n",
        "\n",
        "5.No of free and paid apps in each category\n",
        "\n",
        "This gave the count of free and paid apps in each category\n",
        "\n",
        "6.Price of the paid app that has maximum no of reviews\n",
        "  \n",
        "Minecraft has the maximum review with a price of $6.99\n",
        "\n",
        "7.Most installed paid app\n",
        "\n",
        "Minecraft and Hitman has price 6.99 and 0.99 respectively\n",
        "\n",
        "8.Last Updated Apps\n",
        "\n",
        "Last updated date is 8-8-2018 and we have 5 apps that has been updated on this date\n",
        "\n",
        "9.No of sentiments for each app\n",
        " We seperated the count of postive,negative and neutral sentiment  for the apps.\n",
        "\n",
        "10.  Mean of Sentiment Polarity and sentiment subjectivity for each sentiment\n",
        "\n",
        "Negative-0.53\n",
        "Neutral-0.07\n",
        "Positive-0.56\n",
        "\n",
        "11.No of Reviews for each App.\n",
        "\n",
        "312 is the maximum no of reviews\n",
        "\n",
        "12.Most no of Positive Reviewed app-Helix Jump with 209 positive reviews\n",
        "\n",
        "Most no of Negative Reviewed app- Angry birds classic with 157 negative reviews"
      ],
      "metadata": {
        "id": "LbyXE7I1olp8"
      }
    },
    {
      "cell_type": "markdown",
      "source": [
        "## ***4. Data Vizualization, Storytelling & Experimenting with charts : Understand the relationships between variables***"
      ],
      "metadata": {
        "id": "GF8Ens_Soomf"
      }
    },
    {
      "cell_type": "markdown",
      "source": [
        "#### Chart - 1"
      ],
      "metadata": {
        "id": "0wOQAZs5pc--"
      }
    },
    {
      "cell_type": "code",
      "source": [
        "# Chart - 1 visualization code  CATEGORY REVIEWS\n",
        "category_list = list(df1['Category'].unique())\n",
        "category_review = []\n",
        "for i in category_list:\n",
        "    x = df1[df1['Category'] == i]\n",
        "    if(len(x)!=0):\n",
        "        review = sum(x.Reviews)/len(x)\n",
        "        category_review.append(review)\n",
        "    else:\n",
        "        review = sum(x.Reviews)\n",
        "        category_review.append(review)\n",
        "#sorting\n",
        "data_category_reviews = pd.DataFrame({'category': category_list,'review':category_review})\n",
        "new_index = (data_category_reviews['review'].sort_values(ascending=False)).index.values\n",
        "sorted_data =data_category_reviews.reindex(new_index)\n",
        "\n",
        "# visualization\n",
        "plt.figure(figsize=(15,5))\n",
        "sns.barplot(x=sorted_data['category'], y=sorted_data['review'])\n",
        "plt.xticks(rotation=80)\n",
        "plt.xlabel(\"Category\")\n",
        "plt.ylabel(\"Reviews\")\n",
        "plt.title(\"Category and Reviews\")\n",
        "plt.show()"
      ],
      "metadata": {
        "id": "7v_ESjsspbW7"
      },
      "execution_count": null,
      "outputs": []
    },
    {
      "cell_type": "markdown",
      "source": [
        "##### 1. Why did you pick the specific chart?"
      ],
      "metadata": {
        "id": "K5QZ13OEpz2H"
      }
    },
    {
      "cell_type": "markdown",
      "source": [
        "\n",
        "To summarise the amount of reviews each category has got. "
      ],
      "metadata": {
        "id": "XESiWehPqBRc"
      }
    },
    {
      "cell_type": "markdown",
      "source": [
        "##### 2. What is/are the insight(s) found from the chart?"
      ],
      "metadata": {
        "id": "lQ7QKXXCp7Bj"
      }
    },
    {
      "cell_type": "markdown",
      "source": [
        " Social has the highest and Events has the lowest"
      ],
      "metadata": {
        "id": "C_j1G7yiqdRP"
      }
    },
    {
      "cell_type": "markdown",
      "source": [
        "##### 3. Will the gained insights help creating a positive business impact? \n",
        "Are there any insights that lead to negative growth? Justify with specific reason."
      ],
      "metadata": {
        "id": "448CDAPjqfQr"
      }
    },
    {
      "cell_type": "markdown",
      "source": [
        "Answer Here.Social,Communication and games apps are getting  reviewed more.Events and beauty apps are reviewed less.\n",
        "\n",
        "\n",
        "\n"
      ],
      "metadata": {
        "id": "3cspy4FjqxJW"
      }
    },
    {
      "cell_type": "markdown",
      "source": [
        "#### Chart - 2"
      ],
      "metadata": {
        "id": "KSlN3yHqYklG"
      }
    },
    {
      "cell_type": "code",
      "source": [
        "# Chart - 2 visualization code CATEGORY INSTALLS\n",
        "category_list = list(df1['Category'].unique())\n",
        "category_install = []\n",
        "for i in category_list:\n",
        "    x = df1[df1['Category'] == i]\n",
        "    if(len(x)!=0):\n",
        "        install = sum(x.Installs)/len(x)\n",
        "        category_install.append(install)\n",
        "    else:\n",
        "        install = sum(x.Installs)\n",
        "        category_install.append(install)\n",
        "        \n",
        "#sorting\n",
        "data_category_install = pd.DataFrame({'category': category_list,'install':category_install})\n",
        "new_index = (data_category_install['install'].sort_values(ascending=False)).index.values\n",
        "sorted_data =data_category_install.reindex(new_index)\n",
        "# visualization\n",
        "plt.figure(figsize=(15,10))\n",
        "sns.barplot(x=sorted_data['category'], y=sorted_data['install'])\n",
        "plt.xticks(rotation=80)\n",
        "plt.xlabel(\"Category\")\n",
        "plt.ylabel(\"Install\")\n",
        "plt.title(\"Category and Install\")\n",
        "plt.show()"
      ],
      "metadata": {
        "id": "R4YgtaqtYklH"
      },
      "execution_count": null,
      "outputs": []
    },
    {
      "cell_type": "markdown",
      "source": [
        "##### 1. Why did you pick the specific chart?"
      ],
      "metadata": {
        "id": "t6dVpIINYklI"
      }
    },
    {
      "cell_type": "markdown",
      "source": [
        "Answer Here. To know no of downloads each category got."
      ],
      "metadata": {
        "id": "5aaW0BYyYklI"
      }
    },
    {
      "cell_type": "markdown",
      "source": [
        "##### 2. What is/are the insight(s) found from the chart?"
      ],
      "metadata": {
        "id": "ijmpgYnKYklI"
      }
    },
    {
      "cell_type": "markdown",
      "source": [
        "Answer Here:Communication and Video Players has high downloads.Medical has least installs."
      ],
      "metadata": {
        "id": "PSx9atu2YklI"
      }
    },
    {
      "cell_type": "markdown",
      "source": [
        "##### 3. Will the gained insights help creating a positive business impact? \n",
        "Are there any insights that lead to negative growth? Justify with specific reason."
      ],
      "metadata": {
        "id": "-JiQyfWJYklI"
      }
    },
    {
      "cell_type": "markdown",
      "source": [
        "Answer Here :Making Apps in communication category is more suitable according to business growth."
      ],
      "metadata": {
        "id": "BcBbebzrYklV"
      }
    },
    {
      "cell_type": "markdown",
      "source": [
        "#### Chart - 3"
      ],
      "metadata": {
        "id": "EM7whBJCYoAo"
      }
    },
    {
      "cell_type": "code",
      "source": [
        "# Chart - 3 visualization code CONTENT RATING\n",
        "plt.figure(figsize=(10,7))\n",
        "sns.countplot(data=df1, x='Content Rating')\n",
        "plt.xticks(rotation=80)\n",
        "plt.title('Content Rating',color = 'blue',fontsize=15)\n",
        "plt.show()"
      ],
      "metadata": {
        "id": "t6GMdE67YoAp"
      },
      "execution_count": null,
      "outputs": []
    },
    {
      "cell_type": "markdown",
      "source": [
        "##### 1. Why did you pick the specific chart?"
      ],
      "metadata": {
        "id": "fge-S5ZAYoAp"
      }
    },
    {
      "cell_type": "markdown",
      "source": [
        "Answer Here. To know which content rating, apps are made more "
      ],
      "metadata": {
        "id": "5dBItgRVYoAp"
      }
    },
    {
      "cell_type": "markdown",
      "source": [
        "##### 2. What is/are the insight(s) found from the chart?"
      ],
      "metadata": {
        "id": "85gYPyotYoAp"
      }
    },
    {
      "cell_type": "markdown",
      "source": [
        "Answer Here: Apps that can be used by everyone is made more.No 18+ apps are made"
      ],
      "metadata": {
        "id": "4jstXR6OYoAp"
      }
    },
    {
      "cell_type": "markdown",
      "source": [
        "##### 3. Will the gained insights help creating a positive business impact? \n",
        "Are there any insights that lead to negative growth? Justify with specific reason."
      ],
      "metadata": {
        "id": "RoGjAbkUYoAp"
      }
    },
    {
      "cell_type": "markdown",
      "source": [
        "Answer Here:\n",
        "Apps that can be used by everyone is preferred more."
      ],
      "metadata": {
        "id": "zfJ8IqMcYoAp"
      }
    },
    {
      "cell_type": "markdown",
      "source": [
        "#### Chart - 4"
      ],
      "metadata": {
        "id": "4Of9eVA-YrdM"
      }
    },
    {
      "cell_type": "code",
      "source": [
        "# Chart - 4 visualization code     Mean Rating for each Genre\n",
        "j=df1.groupby('Genres')['Rating'].mean()"
      ],
      "metadata": {
        "id": "RXXOmobJOQWb"
      },
      "execution_count": null,
      "outputs": []
    },
    {
      "cell_type": "code",
      "source": [
        "j.isna().sum()"
      ],
      "metadata": {
        "id": "22Qb0CeebfTt"
      },
      "execution_count": null,
      "outputs": []
    },
    {
      "cell_type": "code",
      "source": [
        "\n",
        "plt.rcParams['figure.figsize']=(55,10)\n",
        "plt.rcParams['font.size']=22\n",
        "plt.plot(j)\n",
        "plt.title('Rating for each Genre')\n",
        "plt.xticks(rotation=90)\n",
        "plt.ylabel('Rating')\n",
        "plt.xlabel('Genres')"
      ],
      "metadata": {
        "id": "irlUoxc8YrdO"
      },
      "execution_count": null,
      "outputs": []
    },
    {
      "cell_type": "markdown",
      "source": [
        "##### 1. Why did you pick the specific chart?"
      ],
      "metadata": {
        "id": "iky9q4vBYrdO"
      }
    },
    {
      "cell_type": "markdown",
      "source": [
        "To know the statistics of each genre rating."
      ],
      "metadata": {
        "id": "aJRCwT6DYrdO"
      }
    },
    {
      "cell_type": "markdown",
      "source": [
        "##### 2. What is/are the insight(s) found from the chart?"
      ],
      "metadata": {
        "id": "F6T5p64dYrdO"
      }
    },
    {
      "cell_type": "markdown",
      "source": [
        "Least rating is for parenting genre apps.So developing them have a low impact among people."
      ],
      "metadata": {
        "id": "Xx8WAJvtYrdO"
      }
    },
    {
      "cell_type": "markdown",
      "source": [
        "##### 3. Will the gained insights help creating a positive business impact? \n",
        "Are there any insights that lead to negative growth? Justify with specific reason."
      ],
      "metadata": {
        "id": "y-Ehk30pYrdP"
      }
    },
    {
      "cell_type": "markdown",
      "source": [
        "Developing comics app has a high rating .So developing comics app with added features may increase the installs of that app.\n",
        "Parenting apps can cause low impact .if an app developed with good features and with user friendly interface may increase the rating of parenting apps. "
      ],
      "metadata": {
        "id": "jLNxxz7MYrdP"
      }
    },
    {
      "cell_type": "markdown",
      "source": [
        "#### Chart - 5"
      ],
      "metadata": {
        "id": "bamQiAODYuh1"
      }
    },
    {
      "cell_type": "code",
      "source": [
        "# Chart - 5 visualization code No of Apps in each Category\n",
        "category_app = []\n",
        "for i in category_list:\n",
        "    x = df1[df1['Category'] == i]\n",
        "    app_count = x['App'].count()\n",
        "    category_app.append(app_count)\n",
        "app_category_df = pd.DataFrame({'category': category_list,'App':category_app})   \n",
        "app_category_df\n",
        "    \n",
        "\n",
        "       \n"
      ],
      "metadata": {
        "id": "TIJwrbroYuh3"
      },
      "execution_count": null,
      "outputs": []
    },
    {
      "cell_type": "code",
      "source": [
        "plt.figure(figsize=(15,10))\n",
        "sns.pointplot(x='category',y='App',data=app_category_df)\n",
        "plt.xticks(rotation=90)\n",
        "plt.xlabel(\"Category\")\n",
        "plt.ylabel(\"No of App\")\n",
        "plt.title(\"Category and App\")\n",
        "plt.show()\n"
      ],
      "metadata": {
        "id": "GKymeEAhnjNe"
      },
      "execution_count": null,
      "outputs": []
    },
    {
      "cell_type": "markdown",
      "source": [
        "##### 1. Why did you pick the specific chart?"
      ],
      "metadata": {
        "id": "QHF8YVU7Yuh3"
      }
    },
    {
      "cell_type": "markdown",
      "source": [
        "To get information on amount of apps in each category"
      ],
      "metadata": {
        "id": "dcxuIMRPYuh3"
      }
    },
    {
      "cell_type": "markdown",
      "source": [
        "##### 2. What is/are the insight(s) found from the chart?"
      ],
      "metadata": {
        "id": "GwzvFGzlYuh3"
      }
    },
    {
      "cell_type": "markdown",
      "source": [
        "Beauty has least no of apps.Family has highest no of apps.\n",
        "Developing lifestyle app can trigger users to use more simple user interface apps"
      ],
      "metadata": {
        "id": "uyqkiB8YYuh3"
      }
    },
    {
      "cell_type": "markdown",
      "source": [
        "##### 3. Will the gained insights help creating a positive business impact? \n",
        "Are there any insights that lead to negative growth? Justify with specific reason."
      ],
      "metadata": {
        "id": "qYpmQ266Yuh3"
      }
    },
    {
      "cell_type": "markdown",
      "source": [
        "Comics has low no of apps but they have high rating.So developing Comics apps can make an impact among users.Users will download the new comic app as they have no numerous options.So good comics apps will make a positive impact"
      ],
      "metadata": {
        "id": "_WtzZ_hCYuh4"
      }
    },
    {
      "cell_type": "markdown",
      "source": [
        "#### Chart - 6"
      ],
      "metadata": {
        "id": "OH-pJp9IphqM"
      }
    },
    {
      "cell_type": "code",
      "source": [
        "# Chart - 6 visualization code No of Translated Review in each Sentiment\n",
        "df2.groupby('Sentiment')['Translated_Review'].count().plot(kind='box')"
      ],
      "metadata": {
        "id": "kuRf4wtuphqN"
      },
      "execution_count": null,
      "outputs": []
    },
    {
      "cell_type": "markdown",
      "source": [
        "##### 1. Why did you pick the specific chart?"
      ],
      "metadata": {
        "id": "bbFf2-_FphqN"
      }
    },
    {
      "cell_type": "markdown",
      "source": [
        "To get the count of positive,negative and neutral count in box plot.\n"
      ],
      "metadata": {
        "id": "loh7H2nzphqN"
      }
    },
    {
      "cell_type": "markdown",
      "source": [
        "##### 2. What is/are the insight(s) found from the chart?"
      ],
      "metadata": {
        "id": "_ouA3fa0phqN"
      }
    },
    {
      "cell_type": "markdown",
      "source": [
        "Highest is positive and lowest is neutral.Negative values lie in 8000 range "
      ],
      "metadata": {
        "id": "VECbqPI7phqN"
      }
    },
    {
      "cell_type": "markdown",
      "source": [
        "##### 3. Will the gained insights help creating a positive business impact? \n",
        "Are there any insights that lead to negative growth? Justify with specific reason."
      ],
      "metadata": {
        "id": "Seke61FWphqN"
      }
    },
    {
      "cell_type": "markdown",
      "source": [
        "Users express their sentiments in either positive or negative way.Thats why we have least number of neutral reviews.So from negative reviews its easier to make the app more user friendly and add the features mentioned in positive reviews."
      ],
      "metadata": {
        "id": "DW4_bGpfphqN"
      }
    },
    {
      "cell_type": "code",
      "source": [
        "#Chart 7 Plot between size and price\n",
        "sns.jointplot(x='Price',y='Size',data=df1)"
      ],
      "metadata": {
        "id": "uStZm3AXhysu"
      },
      "execution_count": null,
      "outputs": []
    },
    {
      "cell_type": "markdown",
      "source": [
        "##### 1. Why did you pick the specific chart?"
      ],
      "metadata": {
        "id": "SiQ-_aE9h9Ck"
      }
    },
    {
      "cell_type": "markdown",
      "source": [
        "To get knowledge whether size is increasing  for paid apps.\n"
      ],
      "metadata": {
        "id": "-vqjvn4Ah9Cl"
      }
    },
    {
      "cell_type": "markdown",
      "source": [
        "##### 2. What is/are the insight(s) found from the chart?"
      ],
      "metadata": {
        "id": "FqsUJPKch9Cl"
      }
    },
    {
      "cell_type": "markdown",
      "source": [
        "Size is not dependent on Price.High size apps are almost free."
      ],
      "metadata": {
        "id": "LR_lEZJBh9Cm"
      }
    },
    {
      "cell_type": "markdown",
      "source": [
        "##### 3. Will the gained insights help creating a positive business impact? \n",
        "Are there any insights that lead to negative growth? Justify with specific reason."
      ],
      "metadata": {
        "id": "6Y5qswZwh9Cm"
      }
    },
    {
      "cell_type": "markdown",
      "source": [
        "Most paid apps hav low size.Higher size apps is free."
      ],
      "metadata": {
        "id": "SkselYd0h9Cn"
      }
    },
    {
      "cell_type": "markdown",
      "source": [
        "#### Chart - 14 - Correlation Heatmap"
      ],
      "metadata": {
        "id": "NC_X3p0fY2L0"
      }
    },
    {
      "cell_type": "code",
      "source": [
        "# Correlation Heatmap visualization code\n",
        "sns.heatmap(df1.corr(), annot=True, linewidths=.5, fmt= '.1f')\n"
      ],
      "metadata": {
        "id": "qF-WJvq-U1mY"
      },
      "execution_count": null,
      "outputs": []
    },
    {
      "cell_type": "markdown",
      "source": [
        "##### 1. Why did you pick the specific chart?"
      ],
      "metadata": {
        "id": "UV0SzAkaZNRQ"
      }
    },
    {
      "cell_type": "markdown",
      "source": [
        "To get the correlation between Rating, Reviews,Size,Installs,Price"
      ],
      "metadata": {
        "id": "DVPuT8LYZNRQ"
      }
    },
    {
      "cell_type": "markdown",
      "source": [
        "##### 2. What is/are the insight(s) found from the chart?"
      ],
      "metadata": {
        "id": "YPEH6qLeZNRQ"
      }
    },
    {
      "cell_type": "markdown",
      "source": [
        "Black squares are negatively correlated and orange squares are most positively correlated."
      ],
      "metadata": {
        "id": "bfSqtnDqZNRR"
      }
    },
    {
      "cell_type": "markdown",
      "source": [
        "#### Chart - 15 - Pair Plot "
      ],
      "metadata": {
        "id": "q29F0dvdveiT"
      }
    },
    {
      "cell_type": "code",
      "source": [
        "# Pair Plot visualization code\n",
        "sns.pairplot(df1)"
      ],
      "metadata": {
        "id": "o58-TEIhveiU"
      },
      "execution_count": null,
      "outputs": []
    },
    {
      "cell_type": "markdown",
      "source": [
        "##### 1. Why did you pick the specific chart?"
      ],
      "metadata": {
        "id": "EXh0U9oCveiU"
      }
    },
    {
      "cell_type": "markdown",
      "source": [
        "Pair plot is the different combinations of plots between Rating, Reviews,Size,Installs,Price"
      ],
      "metadata": {
        "id": "eMmPjTByveiU"
      }
    },
    {
      "cell_type": "markdown",
      "source": [
        "##### 2. What is/are the insight(s) found from the chart?"
      ],
      "metadata": {
        "id": "22aHeOlLveiV"
      }
    },
    {
      "cell_type": "markdown",
      "source": [
        "This allowed us to see both distribution of single variables  and relationships between two variables."
      ],
      "metadata": {
        "id": "uPQ8RGwHveiV"
      }
    },
    {
      "cell_type": "markdown",
      "source": [
        "## **5. Solution to Business Objective**"
      ],
      "metadata": {
        "id": "JcMwzZxoAimU"
      }
    },
    {
      "cell_type": "markdown",
      "source": [
        "#### What do you suggest the client to achieve Business Objective ? \n",
        "Explain Briefly."
      ],
      "metadata": {
        "id": "8G2x9gOozGDZ"
      }
    },
    {
      "cell_type": "markdown",
      "source": [
        "Play Store must suggest the apps to the users according to their activities.\n",
        "Its should not give constant notifications to download paid app if the user has not yet used a paid app.Asking for review and rating will increase the efficiency of play store.If a user is trying to download a low rating app, giving a warning for the user on its reviews will help the user to not download it thereby increasing the standards of the apps in play store.\n"
      ],
      "metadata": {
        "id": "pASKb0qOza21"
      }
    },
    {
      "cell_type": "markdown",
      "source": [
        "# **Conclusion**\n",
        "\n"
      ],
      "metadata": {
        "id": "gCX9965dhzqZ"
      }
    },
    {
      "cell_type": "markdown",
      "source": [
        "We have gone through the two dataframes and its column relations.We had huge number of apps sectioned into category,genres,android versions etc.We got the user reviews and highly rated apps that can be sugested to new users.Dataset can also be used to look whether the original rating of the app matches the predicted rating to know whether the app is performing better or worse compared to other apps on the play store."
      ],
      "metadata": {
        "id": "Fjb1IsQkh3yE"
      }
    },
    {
      "cell_type": "markdown",
      "source": [
        "### ***Hurrah! You have successfully completed your EDA Capstone Project !!!***"
      ],
      "metadata": {
        "id": "gIfDvo9L0UH2"
      }
    }
  ]
}